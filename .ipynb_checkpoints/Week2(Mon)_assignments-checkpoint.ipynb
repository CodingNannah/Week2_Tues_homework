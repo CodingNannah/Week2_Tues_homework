{
 "cells": [
  {
   "cell_type": "markdown",
   "metadata": {},
   "source": [
    "## Exercise #1 <br>\n",
    "<p>Cube Number Test... Print out all cubed numbers up to the total value 1000. Meaning that if the cubed number is over 1000 break the loop.</p>"
   ]
  },
  {
   "cell_type": "code",
   "execution_count": 50,
   "metadata": {},
   "outputs": [
    {
     "name": "stdout",
     "output_type": "stream",
     "text": [
      "1002\n"
     ]
    }
   ],
   "source": [
    "# creating a list of cubed numbers\n",
    "# output: up to 1000, then break\n",
    "# expected output (1,2,3, etc. **3 =): 1, 8, 27, 64, 125, 216, 343, 512, 729, 1,000\n",
    "# cube the integers\n",
    "\n",
    "# eliminate: range\n",
    "# define my new list\n",
    "# I keep wanting to use a while loop!: while cubed_num < 1000\n",
    "\n",
    "\n",
    "def cubed_nums():\n",
    "    list = []\n",
    "    \n",
    "    for num in list:\n",
    "        num **3 = cubed_num\n",
    "        \n",
    "# append cubed number into cubed_nums()\n",
    "# loop again\n",
    "\n",
    "# reach 1,000 & break\n",
    "        \n",
    "i = i + 1\n",
    "while i<1000:\n",
    "    print(i**3)    \n",
    "\n",
    "print(i)    \n",
    "        "
   ]
  },
  {
   "cell_type": "markdown",
   "metadata": {},
   "source": [
    "## Exercise #2 <br>\n",
    "<p>Get first prime numbers up to 100</p>"
   ]
  },
  {
   "cell_type": "code",
   "execution_count": null,
   "metadata": {},
   "outputs": [],
   "source": [
    "# HINT::\n",
    "# An else after an if runs if the if didn’t\n",
    "# An else after a for runs if the for didn’t break\n",
    "\n",
    "\n"
   ]
  },
  {
   "cell_type": "markdown",
   "metadata": {},
   "source": [
    "# Exercise 3 <br>\n",
    "<p>Take in a users input for their age, if they are younger than 18 print kids, if they're 18 to 65 print adults, else print seniors. Gracefully log the error if the user doesn't enter a number </p>"
   ]
  },
  {
   "cell_type": "code",
   "execution_count": null,
   "metadata": {},
   "outputs": [],
   "source": []
  }
 ],
 "metadata": {
  "kernelspec": {
   "display_name": "Python 3 (ipykernel)",
   "language": "python",
   "name": "python3"
  },
  "language_info": {
   "codemirror_mode": {
    "name": "ipython",
    "version": 3
   },
   "file_extension": ".py",
   "mimetype": "text/x-python",
   "name": "python",
   "nbconvert_exporter": "python",
   "pygments_lexer": "ipython3",
   "version": "3.9.12"
  },
  "vscode": {
   "interpreter": {
    "hash": "f9d0909124fefbc8d89ed82f6ec2db1dcfb2040ea978addcf84a800b1d38edc2"
   }
  }
 },
 "nbformat": 4,
 "nbformat_minor": 2
}
