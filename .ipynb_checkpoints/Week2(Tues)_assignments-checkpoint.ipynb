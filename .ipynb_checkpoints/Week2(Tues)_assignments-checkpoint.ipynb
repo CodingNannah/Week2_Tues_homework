{
 "cells": [
  {
   "cell_type": "markdown",
   "metadata": {},
   "source": [
    "# Working with Strings and Lists, List Comprehension, Tuples"
   ]
  },
  {
   "cell_type": "markdown",
   "metadata": {},
   "source": [
    "## Exercise 1 <br>\n",
    "<p>Create a list of numbers that are less than ten using l_1 and list comprehension</b></i></p><br>\n",
    "<p> Your output should [1,5,8,9]</p>"
   ]
  },
  {
   "cell_type": "code",
   "execution_count": 17,
   "metadata": {},
   "outputs": [
    {
     "name": "stdout",
     "output_type": "stream",
     "text": [
      "[1, 5, 8, 9]\n"
     ]
    }
   ],
   "source": [
    "# Use the following list - [1,11,14,5,8,9]\n",
    "# Use list comprehension: format new list = [expression(element) for element in old list if condition]\n",
    "\n",
    "# create list to fill as ex list = [] = # nums_less_than_10 = []\n",
    "\n",
    "# if less than 10 in original list = for n in l_1: if n < 10 (usually on two lines; watch order in list comprehension)\n",
    "\n",
    "# sort in numbers less than 10 = nums_less_than_10.append\n",
    "\n",
    "# print new list = print(nums_less_than_10)\n",
    "\n",
    "\n",
    "l_1 = [1,11,14,5,8,9]\n",
    "\n",
    "nums_less_than_10 = [n for n in l_1 if n<10]\n",
    "\n",
    "        \n",
    "print(nums_less_than_10)"
   ]
  },
  {
   "cell_type": "code",
   "execution_count": null,
   "metadata": {},
   "outputs": [],
   "source": [
    "# help list comprehension\n",
    "# help list_comprehension\n",
    "\n",
    "# import list comprehension\n",
    "# help(list comprehension)\n",
    "\n",
    "# help(list)\n",
    "# help(comprehension)"
   ]
  },
  {
   "cell_type": "markdown",
   "metadata": {},
   "source": [
    "## Conversion Example\n",
    "\n",
    "fruits = [\"apple\", \"banana\", \"cherry\", \"kiwi\", \"mango\"]\n",
    "\n",
    "newlist = []\n",
    "\n",
    "for x in fruits:\n",
    "  if \"a\" in x:\n",
    "    newlist.append(x)\n",
    "\n",
    "print(newlist)\n",
    "\n",
    "#changes into:\n",
    "    \n",
    "fruits = [\"apple\", \"banana\", \"cherry\", \"kiwi\", \"mango\"]\n",
    "\n",
    "newlist = [x for x in fruits if \"a\" in x]\n",
    "\n",
    "print(newlist)"
   ]
  },
  {
   "cell_type": "markdown",
   "metadata": {},
   "source": [
    "## Exercise 2 <br>\n",
    "<p>Using list comprehension, create a list of names of 4 letters or more and capitalize each name\n",
    "<br>"
   ]
  },
  {
   "cell_type": "code",
   "execution_count": 26,
   "metadata": {},
   "outputs": [
    {
     "name": "stdout",
     "output_type": "stream",
     "text": [
      "['Bob', 'Evan', 'Max', 'Evan', 'Bob']\n"
     ]
    }
   ],
   "source": [
    "# remember len for length!\n",
    "# .capitalize() <-- double check the formatting\n",
    "# caps did not work on print section; moving to definition section\n",
    "# Ha! .title() not .cap*\n",
    "# what am i trying to caps? output of names - the strings in a list\n",
    "\n",
    "names1 = ['connor', 'connor', 'bob', 'connor', 'evan', 'max', 'evan', 'bob', 'kevin']\n",
    "\n",
    "names4 = [n.title() for n in names1 if len(n) <= 4]\n",
    "\n",
    "print(names4)\n"
   ]
  },
  {
   "cell_type": "code",
   "execution_count": 30,
   "metadata": {},
   "outputs": [
    {
     "name": "stdout",
     "output_type": "stream",
     "text": [
      "['Bob', 'Evan', 'Max', 'Evan', 'Bob']\n"
     ]
    }
   ],
   "source": [
    "# Bonus Challenge\n",
    "# if n == 'str' does not work!\n",
    "# What do I want to print? names NOT integers\n",
    "# trying if n != 'int' \n",
    "\n",
    "names2 = ['connor', 'connor', 'bob', 'connor', 'evan', 'max', 'evan', 2, 2, 2, 3, 3, 4, 'bob', 'kevin']\n",
    "\n",
    "names_just = [n.title() for n in names1 if len(n) <= 4 and n != 'int']\n",
    "\n",
    "print(names_just)"
   ]
  },
  {
   "cell_type": "code",
   "execution_count": null,
   "metadata": {},
   "outputs": [],
   "source": []
  }
 ],
 "metadata": {
  "kernelspec": {
   "display_name": "Python 3 (ipykernel)",
   "language": "python",
   "name": "python3"
  },
  "language_info": {
   "codemirror_mode": {
    "name": "ipython",
    "version": 3
   },
   "file_extension": ".py",
   "mimetype": "text/x-python",
   "name": "python",
   "nbconvert_exporter": "python",
   "pygments_lexer": "ipython3",
   "version": "3.9.12"
  }
 },
 "nbformat": 4,
 "nbformat_minor": 2
}
